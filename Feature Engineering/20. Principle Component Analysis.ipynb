{
 "cells": [
  {
   "cell_type": "code",
   "execution_count": 2,
   "metadata": {},
   "outputs": [],
   "source": [
    "import numpy as np\n",
    "import pandas as pd\n",
    "import matplotlib.pyplot as plt\n",
    "\n",
    "np.random.seed(23) \n",
    "\n",
    "mu_vec1 = np.array([0,0,0])\n",
    "cov_mat1 = np.array([[1,0,0],[0,1,0],[0,0,1]])\n",
    "class1_sample = np.random.multivariate_normal(mu_vec1, cov_mat1, 20)\n",
    "\n",
    "df = pd.DataFrame(class1_sample,columns=['feature1','feature2','feature3'])\n",
    "df['target'] = 1\n",
    "\n",
    "mu_vec2 = np.array([1,1,1])\n",
    "cov_mat2 = np.array([[1,0,0],[0,1,0],[0,0,1]])\n",
    "class2_sample = np.random.multivariate_normal(mu_vec2, cov_mat2, 20)\n",
    "\n",
    "df1 = pd.DataFrame(class2_sample,columns=['feature1','feature2','feature3'])\n",
    "\n",
    "df1['target'] = 0\n",
    "\n",
    "df = pd.concat([df, df1])\n",
    "\n",
    "df = df.sample(40)  "
   ]
  },
  {
   "cell_type": "code",
   "execution_count": 3,
   "metadata": {},
   "outputs": [
    {
     "data": {
      "text/html": [
       "<div>\n",
       "<style scoped>\n",
       "    .dataframe tbody tr th:only-of-type {\n",
       "        vertical-align: middle;\n",
       "    }\n",
       "\n",
       "    .dataframe tbody tr th {\n",
       "        vertical-align: top;\n",
       "    }\n",
       "\n",
       "    .dataframe thead th {\n",
       "        text-align: right;\n",
       "    }\n",
       "</style>\n",
       "<table border=\"1\" class=\"dataframe\">\n",
       "  <thead>\n",
       "    <tr style=\"text-align: right;\">\n",
       "      <th></th>\n",
       "      <th>feature1</th>\n",
       "      <th>feature2</th>\n",
       "      <th>feature3</th>\n",
       "      <th>target</th>\n",
       "    </tr>\n",
       "  </thead>\n",
       "  <tbody>\n",
       "    <tr>\n",
       "      <th>2</th>\n",
       "      <td>-0.367548</td>\n",
       "      <td>-1.137460</td>\n",
       "      <td>-1.322148</td>\n",
       "      <td>1</td>\n",
       "    </tr>\n",
       "    <tr>\n",
       "      <th>14</th>\n",
       "      <td>0.177061</td>\n",
       "      <td>-0.598109</td>\n",
       "      <td>1.226512</td>\n",
       "      <td>0</td>\n",
       "    </tr>\n",
       "    <tr>\n",
       "      <th>14</th>\n",
       "      <td>0.420623</td>\n",
       "      <td>0.411620</td>\n",
       "      <td>-0.071324</td>\n",
       "      <td>1</td>\n",
       "    </tr>\n",
       "    <tr>\n",
       "      <th>11</th>\n",
       "      <td>1.968435</td>\n",
       "      <td>-0.547788</td>\n",
       "      <td>-0.679418</td>\n",
       "      <td>1</td>\n",
       "    </tr>\n",
       "    <tr>\n",
       "      <th>12</th>\n",
       "      <td>-2.506230</td>\n",
       "      <td>0.146960</td>\n",
       "      <td>0.606195</td>\n",
       "      <td>1</td>\n",
       "    </tr>\n",
       "  </tbody>\n",
       "</table>\n",
       "</div>"
      ],
      "text/plain": [
       "    feature1  feature2  feature3  target\n",
       "2  -0.367548 -1.137460 -1.322148       1\n",
       "14  0.177061 -0.598109  1.226512       0\n",
       "14  0.420623  0.411620 -0.071324       1\n",
       "11  1.968435 -0.547788 -0.679418       1\n",
       "12 -2.506230  0.146960  0.606195       1"
      ]
     },
     "execution_count": 3,
     "metadata": {},
     "output_type": "execute_result"
    }
   ],
   "source": [
    "df.head()"
   ]
  },
  {
   "cell_type": "code",
   "execution_count": 4,
   "metadata": {},
   "outputs": [],
   "source": [
    "# Step 1 - Apply standard scaling\n",
    "from sklearn.preprocessing import StandardScaler\n",
    "scaler = StandardScaler()\n",
    "\n",
    "df.iloc[:,0:3] = scaler.fit_transform(df.iloc[:,0:3])"
   ]
  },
  {
   "cell_type": "code",
   "execution_count": 5,
   "metadata": {},
   "outputs": [
    {
     "name": "stdout",
     "output_type": "stream",
     "text": [
      "Covariance Matrix:\n",
      " [[1.02564103 0.20478114 0.080118  ]\n",
      " [0.20478114 1.02564103 0.19838882]\n",
      " [0.080118   0.19838882 1.02564103]]\n"
     ]
    }
   ],
   "source": [
    "# Step 2 - Find Covariance Matrix\n",
    "covariance_matrix = np.cov([df.iloc[:,0],df.iloc[:,1],df.iloc[:,2]])\n",
    "print('Covariance Matrix:\\n', covariance_matrix)"
   ]
  },
  {
   "cell_type": "code",
   "execution_count": 6,
   "metadata": {},
   "outputs": [],
   "source": [
    "# Step 3 - Finding EV and EVs\n",
    "eigen_values, eigen_vectors = np.linalg.eig(covariance_matrix)"
   ]
  },
  {
   "cell_type": "code",
   "execution_count": 7,
   "metadata": {},
   "outputs": [
    {
     "data": {
      "text/plain": [
       "array([1.3536065 , 0.94557084, 0.77774573])"
      ]
     },
     "execution_count": 7,
     "metadata": {},
     "output_type": "execute_result"
    }
   ],
   "source": [
    "eigen_values"
   ]
  },
  {
   "cell_type": "code",
   "execution_count": 8,
   "metadata": {},
   "outputs": [
    {
     "data": {
      "text/plain": [
       "array([[-0.53875915, -0.69363291,  0.47813384],\n",
       "       [-0.65608325, -0.01057596, -0.75461442],\n",
       "       [-0.52848211,  0.72025103,  0.44938304]])"
      ]
     },
     "execution_count": 8,
     "metadata": {},
     "output_type": "execute_result"
    }
   ],
   "source": [
    "eigen_vectors"
   ]
  },
  {
   "cell_type": "code",
   "execution_count": 9,
   "metadata": {},
   "outputs": [
    {
     "data": {
      "text/plain": [
       "array([[-0.53875915, -0.69363291,  0.47813384],\n",
       "       [-0.65608325, -0.01057596, -0.75461442]])"
      ]
     },
     "execution_count": 9,
     "metadata": {},
     "output_type": "execute_result"
    }
   ],
   "source": [
    "pc = eigen_vectors[0:2]\n",
    "pc"
   ]
  },
  {
   "cell_type": "code",
   "execution_count": 10,
   "metadata": {},
   "outputs": [
    {
     "data": {
      "text/html": [
       "<div>\n",
       "<style scoped>\n",
       "    .dataframe tbody tr th:only-of-type {\n",
       "        vertical-align: middle;\n",
       "    }\n",
       "\n",
       "    .dataframe tbody tr th {\n",
       "        vertical-align: top;\n",
       "    }\n",
       "\n",
       "    .dataframe thead th {\n",
       "        text-align: right;\n",
       "    }\n",
       "</style>\n",
       "<table border=\"1\" class=\"dataframe\">\n",
       "  <thead>\n",
       "    <tr style=\"text-align: right;\">\n",
       "      <th></th>\n",
       "      <th>PC1</th>\n",
       "      <th>PC2</th>\n",
       "      <th>target</th>\n",
       "    </tr>\n",
       "  </thead>\n",
       "  <tbody>\n",
       "    <tr>\n",
       "      <th>0</th>\n",
       "      <td>0.599433</td>\n",
       "      <td>1.795862</td>\n",
       "      <td>1</td>\n",
       "    </tr>\n",
       "    <tr>\n",
       "      <th>1</th>\n",
       "      <td>1.056919</td>\n",
       "      <td>-0.212737</td>\n",
       "      <td>0</td>\n",
       "    </tr>\n",
       "    <tr>\n",
       "      <th>2</th>\n",
       "      <td>-0.271876</td>\n",
       "      <td>0.498222</td>\n",
       "      <td>1</td>\n",
       "    </tr>\n",
       "    <tr>\n",
       "      <th>3</th>\n",
       "      <td>-0.621586</td>\n",
       "      <td>0.023110</td>\n",
       "      <td>1</td>\n",
       "    </tr>\n",
       "    <tr>\n",
       "      <th>4</th>\n",
       "      <td>1.567286</td>\n",
       "      <td>1.730967</td>\n",
       "      <td>1</td>\n",
       "    </tr>\n",
       "  </tbody>\n",
       "</table>\n",
       "</div>"
      ],
      "text/plain": [
       "        PC1       PC2  target\n",
       "0  0.599433  1.795862       1\n",
       "1  1.056919 -0.212737       0\n",
       "2 -0.271876  0.498222       1\n",
       "3 -0.621586  0.023110       1\n",
       "4  1.567286  1.730967       1"
      ]
     },
     "execution_count": 10,
     "metadata": {},
     "output_type": "execute_result"
    }
   ],
   "source": [
    "transformed_df = np.dot(df.iloc[:,0:3],pc.T)\n",
    "# 40,3 - 3,2\n",
    "new_df = pd.DataFrame(transformed_df,columns=['PC1','PC2'])\n",
    "new_df['target'] = df['target'].values\n",
    "new_df.head()"
   ]
  },
  {
   "cell_type": "markdown",
   "metadata": {},
   "source": [
    "#### MNIST"
   ]
  },
  {
   "cell_type": "code",
   "execution_count": 11,
   "metadata": {},
   "outputs": [
    {
     "data": {
      "text/html": [
       "<div>\n",
       "<style scoped>\n",
       "    .dataframe tbody tr th:only-of-type {\n",
       "        vertical-align: middle;\n",
       "    }\n",
       "\n",
       "    .dataframe tbody tr th {\n",
       "        vertical-align: top;\n",
       "    }\n",
       "\n",
       "    .dataframe thead th {\n",
       "        text-align: right;\n",
       "    }\n",
       "</style>\n",
       "<table border=\"1\" class=\"dataframe\">\n",
       "  <thead>\n",
       "    <tr style=\"text-align: right;\">\n",
       "      <th></th>\n",
       "      <th>label</th>\n",
       "      <th>pixel0</th>\n",
       "      <th>pixel1</th>\n",
       "      <th>pixel2</th>\n",
       "      <th>pixel3</th>\n",
       "      <th>pixel4</th>\n",
       "      <th>pixel5</th>\n",
       "      <th>pixel6</th>\n",
       "      <th>pixel7</th>\n",
       "      <th>pixel8</th>\n",
       "      <th>...</th>\n",
       "      <th>pixel774</th>\n",
       "      <th>pixel775</th>\n",
       "      <th>pixel776</th>\n",
       "      <th>pixel777</th>\n",
       "      <th>pixel778</th>\n",
       "      <th>pixel779</th>\n",
       "      <th>pixel780</th>\n",
       "      <th>pixel781</th>\n",
       "      <th>pixel782</th>\n",
       "      <th>pixel783</th>\n",
       "    </tr>\n",
       "  </thead>\n",
       "  <tbody>\n",
       "    <tr>\n",
       "      <th>0</th>\n",
       "      <td>1</td>\n",
       "      <td>0</td>\n",
       "      <td>0</td>\n",
       "      <td>0</td>\n",
       "      <td>0</td>\n",
       "      <td>0</td>\n",
       "      <td>0</td>\n",
       "      <td>0</td>\n",
       "      <td>0</td>\n",
       "      <td>0</td>\n",
       "      <td>...</td>\n",
       "      <td>0</td>\n",
       "      <td>0</td>\n",
       "      <td>0</td>\n",
       "      <td>0</td>\n",
       "      <td>0</td>\n",
       "      <td>0</td>\n",
       "      <td>0</td>\n",
       "      <td>0</td>\n",
       "      <td>0</td>\n",
       "      <td>0</td>\n",
       "    </tr>\n",
       "    <tr>\n",
       "      <th>1</th>\n",
       "      <td>0</td>\n",
       "      <td>0</td>\n",
       "      <td>0</td>\n",
       "      <td>0</td>\n",
       "      <td>0</td>\n",
       "      <td>0</td>\n",
       "      <td>0</td>\n",
       "      <td>0</td>\n",
       "      <td>0</td>\n",
       "      <td>0</td>\n",
       "      <td>...</td>\n",
       "      <td>0</td>\n",
       "      <td>0</td>\n",
       "      <td>0</td>\n",
       "      <td>0</td>\n",
       "      <td>0</td>\n",
       "      <td>0</td>\n",
       "      <td>0</td>\n",
       "      <td>0</td>\n",
       "      <td>0</td>\n",
       "      <td>0</td>\n",
       "    </tr>\n",
       "    <tr>\n",
       "      <th>2</th>\n",
       "      <td>1</td>\n",
       "      <td>0</td>\n",
       "      <td>0</td>\n",
       "      <td>0</td>\n",
       "      <td>0</td>\n",
       "      <td>0</td>\n",
       "      <td>0</td>\n",
       "      <td>0</td>\n",
       "      <td>0</td>\n",
       "      <td>0</td>\n",
       "      <td>...</td>\n",
       "      <td>0</td>\n",
       "      <td>0</td>\n",
       "      <td>0</td>\n",
       "      <td>0</td>\n",
       "      <td>0</td>\n",
       "      <td>0</td>\n",
       "      <td>0</td>\n",
       "      <td>0</td>\n",
       "      <td>0</td>\n",
       "      <td>0</td>\n",
       "    </tr>\n",
       "    <tr>\n",
       "      <th>3</th>\n",
       "      <td>4</td>\n",
       "      <td>0</td>\n",
       "      <td>0</td>\n",
       "      <td>0</td>\n",
       "      <td>0</td>\n",
       "      <td>0</td>\n",
       "      <td>0</td>\n",
       "      <td>0</td>\n",
       "      <td>0</td>\n",
       "      <td>0</td>\n",
       "      <td>...</td>\n",
       "      <td>0</td>\n",
       "      <td>0</td>\n",
       "      <td>0</td>\n",
       "      <td>0</td>\n",
       "      <td>0</td>\n",
       "      <td>0</td>\n",
       "      <td>0</td>\n",
       "      <td>0</td>\n",
       "      <td>0</td>\n",
       "      <td>0</td>\n",
       "    </tr>\n",
       "    <tr>\n",
       "      <th>4</th>\n",
       "      <td>0</td>\n",
       "      <td>0</td>\n",
       "      <td>0</td>\n",
       "      <td>0</td>\n",
       "      <td>0</td>\n",
       "      <td>0</td>\n",
       "      <td>0</td>\n",
       "      <td>0</td>\n",
       "      <td>0</td>\n",
       "      <td>0</td>\n",
       "      <td>...</td>\n",
       "      <td>0</td>\n",
       "      <td>0</td>\n",
       "      <td>0</td>\n",
       "      <td>0</td>\n",
       "      <td>0</td>\n",
       "      <td>0</td>\n",
       "      <td>0</td>\n",
       "      <td>0</td>\n",
       "      <td>0</td>\n",
       "      <td>0</td>\n",
       "    </tr>\n",
       "  </tbody>\n",
       "</table>\n",
       "<p>5 rows × 785 columns</p>\n",
       "</div>"
      ],
      "text/plain": [
       "   label  pixel0  pixel1  pixel2  pixel3  pixel4  pixel5  pixel6  pixel7  \\\n",
       "0      1       0       0       0       0       0       0       0       0   \n",
       "1      0       0       0       0       0       0       0       0       0   \n",
       "2      1       0       0       0       0       0       0       0       0   \n",
       "3      4       0       0       0       0       0       0       0       0   \n",
       "4      0       0       0       0       0       0       0       0       0   \n",
       "\n",
       "   pixel8  ...  pixel774  pixel775  pixel776  pixel777  pixel778  pixel779  \\\n",
       "0       0  ...         0         0         0         0         0         0   \n",
       "1       0  ...         0         0         0         0         0         0   \n",
       "2       0  ...         0         0         0         0         0         0   \n",
       "3       0  ...         0         0         0         0         0         0   \n",
       "4       0  ...         0         0         0         0         0         0   \n",
       "\n",
       "   pixel780  pixel781  pixel782  pixel783  \n",
       "0         0         0         0         0  \n",
       "1         0         0         0         0  \n",
       "2         0         0         0         0  \n",
       "3         0         0         0         0  \n",
       "4         0         0         0         0  \n",
       "\n",
       "[5 rows x 785 columns]"
      ]
     },
     "execution_count": 11,
     "metadata": {},
     "output_type": "execute_result"
    }
   ],
   "source": [
    "df = pd.read_csv('C:\\My Space\\ML\\Datasets\\Mnist train.csv')\n",
    "df.head()"
   ]
  },
  {
   "cell_type": "code",
   "execution_count": 12,
   "metadata": {},
   "outputs": [
    {
     "data": {
      "text/plain": [
       "(42000, 785)"
      ]
     },
     "execution_count": 12,
     "metadata": {},
     "output_type": "execute_result"
    }
   ],
   "source": [
    "df.shape"
   ]
  },
  {
   "cell_type": "code",
   "execution_count": 13,
   "metadata": {},
   "outputs": [
    {
     "data": {
      "text/plain": [
       "<matplotlib.image.AxesImage at 0x208c52a8390>"
      ]
     },
     "execution_count": 13,
     "metadata": {},
     "output_type": "execute_result"
    },
    {
     "data": {
      "image/png": "[encoded data removed]",
      "text/plain": [
       "<Figure size 640x480 with 1 Axes>"
      ]
     },
     "metadata": {},
     "output_type": "display_data"
    }
   ],
   "source": [
    "plt.imshow(df.iloc[13051,1:].values.reshape(28,28))"
   ]
  },
  {
   "cell_type": "code",
   "execution_count": 14,
   "metadata": {},
   "outputs": [
    {
     "data": {
      "text/plain": [
       "(33600, 784)"
      ]
     },
     "execution_count": 14,
     "metadata": {},
     "output_type": "execute_result"
    }
   ],
   "source": [
    "X = df.iloc[:,1:]\n",
    "y = df.iloc[:,0]\n",
    "\n",
    "from sklearn.model_selection import train_test_split\n",
    "X_train,X_test,y_train,y_test=train_test_split(X,y,test_size=0.2,random_state=42)\n",
    "\n",
    "X_train.shape"
   ]
  },
  {
   "cell_type": "code",
   "execution_count": 15,
   "metadata": {},
   "outputs": [
    {
     "name": "stdout",
     "output_type": "stream",
     "text": [
      "11.038973569869995\n"
     ]
    }
   ],
   "source": [
    "from sklearn.neighbors import KNeighborsClassifier\n",
    "knn = KNeighborsClassifier()\n",
    "knn.fit(X_train,y_train)\n",
    "\n",
    "import time\n",
    "start = time.time()\n",
    "y_pred = knn.predict(X_test)\n",
    "print(time.time() - start)"
   ]
  },
  {
   "cell_type": "code",
   "execution_count": 16,
   "metadata": {},
   "outputs": [
    {
     "data": {
      "text/plain": [
       "0.9648809523809524"
      ]
     },
     "execution_count": 16,
     "metadata": {},
     "output_type": "execute_result"
    }
   ],
   "source": [
    "from sklearn.metrics import accuracy_score\n",
    "accuracy_score(y_test,y_pred)"
   ]
  },
  {
   "cell_type": "code",
   "execution_count": 17,
   "metadata": {},
   "outputs": [],
   "source": [
    "from sklearn.preprocessing import StandardScaler\n",
    "scaler = StandardScaler()\n",
    "\n",
    "X_train = scaler.fit_transform(X_train)\n",
    "X_test = scaler.transform(X_test)"
   ]
  },
  {
   "cell_type": "code",
   "execution_count": 18,
   "metadata": {},
   "outputs": [
    {
     "data": {
      "text/plain": [
       "(33600, 200)"
      ]
     },
     "execution_count": 18,
     "metadata": {},
     "output_type": "execute_result"
    }
   ],
   "source": [
    "# PCA \n",
    "from sklearn.decomposition import PCA\n",
    "pca = PCA(n_components=200)\n",
    "\n",
    "X_train_trf = pca.fit_transform(X_train)\n",
    "X_test_trf = pca.transform(X_test)\n",
    "\n",
    "X_train_trf.shape"
   ]
  },
  {
   "cell_type": "code",
   "execution_count": 19,
   "metadata": {},
   "outputs": [
    {
     "data": {
      "text/plain": [
       "0.9507142857142857"
      ]
     },
     "execution_count": 19,
     "metadata": {},
     "output_type": "execute_result"
    }
   ],
   "source": [
    "knn = KNeighborsClassifier()\n",
    "knn.fit(X_train_trf,y_train)\n",
    "y_pred = knn.predict(X_test_trf)\n",
    "accuracy_score(y_test,y_pred)"
   ]
  },
  {
   "cell_type": "code",
   "execution_count": 21,
   "metadata": {},
   "outputs": [
    {
     "name": "stdout",
     "output_type": "stream",
     "text": [
      "0.2580952380952381\n",
      "0.3236904761904762\n",
      "0.5104761904761905\n",
      "0.6663095238095238\n",
      "0.7378571428571429\n",
      "0.8227380952380953\n",
      "0.8436904761904762\n",
      "0.8721428571428571\n",
      "0.886547619047619\n",
      "0.9055952380952381\n",
      "0.9116666666666666\n",
      "0.9184523809523809\n",
      "0.9276190476190476\n",
      "0.9351190476190476\n",
      "0.9384523809523809\n",
      "0.9379761904761905\n",
      "0.9407142857142857\n",
      "0.94\n",
      "0.9425\n",
      "0.9442857142857143\n",
      "0.9438095238095238\n",
      "0.9441666666666667\n",
      "0.9442857142857143\n",
      "0.9457142857142857\n",
      "0.9484523809523809\n",
      "0.9479761904761905\n",
      "0.9478571428571428\n",
      "0.9471428571428572\n",
      "0.949047619047619\n"
     ]
    }
   ],
   "source": [
    "for i in range(1,30):\n",
    "    pca = PCA(n_components=i)\n",
    "    X_train_trf = pca.fit_transform(X_train)\n",
    "    X_test_trf = pca.transform(X_test)\n",
    "    \n",
    "    knn = KNeighborsClassifier()\n",
    "    knn.fit(X_train_trf,y_train)\n",
    "    y_pred = knn.predict(X_test_trf)\n",
    "    \n",
    "    print(accuracy_score(y_test,y_pred))"
   ]
  },
  {
   "cell_type": "code",
   "execution_count": 22,
   "metadata": {},
   "outputs": [],
   "source": [
    "# transforming to a 2D coordinate system\n",
    "pca = PCA(n_components=2)\n",
    "X_train_trf = pca.fit_transform(X_train)\n",
    "X_test_trf = pca.transform(X_test)"
   ]
  },
  {
   "cell_type": "code",
   "execution_count": 23,
   "metadata": {},
   "outputs": [
    {
     "data": {
      "text/plain": [
       "array([[-2.71863253, -0.48982409],\n",
       "       [-0.67698015, -6.75362491],\n",
       "       [-3.03323281,  6.50981624],\n",
       "       ...,\n",
       "       [ 2.14883643,  0.78079444],\n",
       "       [ 1.05957006,  0.94767312],\n",
       "       [17.70258446,  1.96188185]], shape=(33600, 2))"
      ]
     },
     "execution_count": 23,
     "metadata": {},
     "output_type": "execute_result"
    }
   ],
   "source": [
    "X_train_trf"
   ]
  },
  {
   "cell_type": "code",
   "execution_count": null,
   "metadata": {},
   "outputs": [],
   "source": [
    "# import plotly.express as px\n",
    "# y_train_trf = y_train.astype(str)\n",
    "# fig = px.scatter(x=X_train_trf[:,0],\n",
    "#                  y=X_train_trf[:,1],\n",
    "#                  color=y_train_trf,\n",
    "#                  color_discrete_sequence=px.colors.qualitative.G10\n",
    "#                 )\n",
    "# fig.show()"
   ]
  },
  {
   "cell_type": "code",
   "execution_count": 24,
   "metadata": {},
   "outputs": [],
   "source": [
    "# transforming in 3D\n",
    "pca = PCA(n_components=3)\n",
    "X_train_trf = pca.fit_transform(X_train)\n",
    "X_test_trf = pca.transform(X_test)"
   ]
  },
  {
   "cell_type": "code",
   "execution_count": 26,
   "metadata": {},
   "outputs": [
    {
     "data": {
      "text/plain": [
       "(42000, 785)"
      ]
     },
     "execution_count": 26,
     "metadata": {},
     "output_type": "execute_result"
    }
   ],
   "source": [
    "df.shape"
   ]
  },
  {
   "cell_type": "code",
   "execution_count": 27,
   "metadata": {},
   "outputs": [
    {
     "data": {
      "text/plain": [
       "(33600, 3)"
      ]
     },
     "execution_count": 27,
     "metadata": {},
     "output_type": "execute_result"
    }
   ],
   "source": [
    "X_train_trf.shape"
   ]
  },
  {
   "cell_type": "code",
   "execution_count": 29,
   "metadata": {},
   "outputs": [],
   "source": [
    "# import plotly.express as px\n",
    "# y_train_trf = y_train.astype(str)\n",
    "# fig = px.scatter_3d(X_train, x=X_train_trf[:,0], y=X_train_trf[:,1], z=X_train_trf[:,2],\n",
    "#               color=y_train_trf)\n",
    "# fig.update_layout(\n",
    "#     margin=dict(l=20, r=20, t=20, b=20),\n",
    "#     paper_bgcolor=\"LightSteelBlue\",\n",
    "# )\n",
    "# fig.show()"
   ]
  },
  {
   "cell_type": "code",
   "execution_count": 30,
   "metadata": {},
   "outputs": [
    {
     "data": {
      "text/plain": [
       "array([40.67111198, 29.17023401, 26.74459621])"
      ]
     },
     "execution_count": 30,
     "metadata": {},
     "output_type": "execute_result"
    }
   ],
   "source": [
    "pca.explained_variance_\n",
    "# Eigen values"
   ]
  },
  {
   "cell_type": "code",
   "execution_count": 31,
   "metadata": {},
   "outputs": [
    {
     "data": {
      "text/plain": [
       "(3, 784)"
      ]
     },
     "execution_count": 31,
     "metadata": {},
     "output_type": "execute_result"
    }
   ],
   "source": [
    "pca.components_.shape\n",
    "# Eigen vectors"
   ]
  },
  {
   "cell_type": "code",
   "execution_count": 32,
   "metadata": {},
   "outputs": [
    {
     "data": {
      "text/plain": [
       "array([0.05785192, 0.0414927 , 0.03804239])"
      ]
     },
     "execution_count": 32,
     "metadata": {},
     "output_type": "execute_result"
    }
   ],
   "source": [
    "pca.explained_variance_ratio_"
   ]
  },
  {
   "cell_type": "code",
   "execution_count": 33,
   "metadata": {},
   "outputs": [],
   "source": [
    "pca = PCA(n_components=None)\n",
    "X_train_trf = pca.fit_transform(X_train)\n",
    "X_test_trf = pca.transform(X_test)"
   ]
  },
  {
   "cell_type": "code",
   "execution_count": 34,
   "metadata": {},
   "outputs": [
    {
     "data": {
      "text/plain": [
       "(784,)"
      ]
     },
     "execution_count": 34,
     "metadata": {},
     "output_type": "execute_result"
    }
   ],
   "source": [
    "pca.explained_variance_.shape"
   ]
  },
  {
   "cell_type": "code",
   "execution_count": 35,
   "metadata": {},
   "outputs": [
    {
     "data": {
      "text/plain": [
       "(784, 784)"
      ]
     },
     "execution_count": 35,
     "metadata": {},
     "output_type": "execute_result"
    }
   ],
   "source": [
    "pca.components_.shape"
   ]
  },
  {
   "cell_type": "code",
   "execution_count": 36,
   "metadata": {},
   "outputs": [
    {
     "data": {
      "text/plain": [
       "array([0.05785192, 0.09934462, 0.13738701, 0.16704964, 0.19286525,\n",
       "       0.21541506, 0.23514574, 0.25289854, 0.26858504, 0.28294568,\n",
       "       0.29664822, 0.30892077, 0.32038989, 0.33162017, 0.34220546,\n",
       "       0.35240477, 0.36198153, 0.37140862, 0.38053351, 0.38943521,\n",
       "       0.39783462, 0.40603525, 0.41388828, 0.42145568, 0.42882829,\n",
       "       0.43584714, 0.44282633, 0.44953738, 0.45593583, 0.4622392 ,\n",
       "       0.46839271, 0.4744166 , 0.48025334, 0.48603881, 0.49176214,\n",
       "       0.49722614, 0.50265822, 0.50793994, 0.51307376, 0.51801392,\n",
       "       0.52289063, 0.52771041, 0.53239246, 0.53698588, 0.54156249,\n",
       "       0.54605468, 0.5505015 , 0.55491691, 0.55926803, 0.56358836,\n",
       "       0.56780645, 0.57198888, 0.57606882, 0.58008887, 0.58407223,\n",
       "       0.58801822, 0.59188694, 0.59571889, 0.59948441, 0.60322635,\n",
       "       0.60687487, 0.6104829 , 0.61402176, 0.61750117, 0.62094441,\n",
       "       0.62432378, 0.62767368, 0.63099377, 0.63426257, 0.63746765,\n",
       "       0.64065542, 0.64376931, 0.64686564, 0.64992395, 0.65296104,\n",
       "       0.6559748 , 0.65895992, 0.66192105, 0.66483654, 0.66772536,\n",
       "       0.67060106, 0.6734651 , 0.67629295, 0.67910917, 0.68191711,\n",
       "       0.68468646, 0.68743018, 0.69013786, 0.69282727, 0.69548652,\n",
       "       0.6981275 , 0.70075516, 0.70335672, 0.7059274 , 0.70848658,\n",
       "       0.71103639, 0.71354984, 0.71605747, 0.71852606, 0.72096777,\n",
       "       0.72336938, 0.72575703, 0.72811046, 0.73043803, 0.73274819,\n",
       "       0.73504902, 0.73730548, 0.73955195, 0.74179168, 0.7440142 ,\n",
       "       0.74620053, 0.7483705 , 0.75051238, 0.7526383 , 0.75471786,\n",
       "       0.75677534, 0.758826  , 0.76083529, 0.76283446, 0.76482579,\n",
       "       0.76678392, 0.76873756, 0.77066405, 0.77258   , 0.77447592,\n",
       "       0.77635207, 0.77822334, 0.78007113, 0.78191268, 0.78373974,\n",
       "       0.78553564, 0.78731499, 0.78907371, 0.79080624, 0.79253247,\n",
       "       0.79425224, 0.79594416, 0.79762874, 0.79928778, 0.80093672,\n",
       "       0.80256446, 0.80416702, 0.80576592, 0.80735478, 0.80893549,\n",
       "       0.81050042, 0.81203815, 0.81356986, 0.81508446, 0.81658796,\n",
       "       0.81807414, 0.819548  , 0.82101567, 0.82247554, 0.82393208,\n",
       "       0.82538281, 0.8268107 , 0.82823494, 0.82965372, 0.83107178,\n",
       "       0.83248637, 0.83389408, 0.83528722, 0.83667705, 0.83806218,\n",
       "       0.83942504, 0.84078165, 0.84212383, 0.84346439, 0.84479466,\n",
       "       0.84611832, 0.84742054, 0.84871121, 0.84999906, 0.85127623,\n",
       "       0.85253753, 0.85378389, 0.85502004, 0.85624547, 0.85745736,\n",
       "       0.85866188, 0.85984637, 0.86101778, 0.86217663, 0.86332437,\n",
       "       0.86445325, 0.86558088, 0.8666952 , 0.86779646, 0.86888392,\n",
       "       0.86996579, 0.87104442, 0.87211364, 0.87317315, 0.87423006,\n",
       "       0.87527947, 0.87631514, 0.87734044, 0.87835265, 0.87936295,\n",
       "       0.88035936, 0.88134553, 0.88232488, 0.8832977 , 0.88427021,\n",
       "       0.88523831, 0.88619619, 0.88714161, 0.88807599, 0.88898991,\n",
       "       0.88989857, 0.89080345, 0.8916966 , 0.89258607, 0.89346635,\n",
       "       0.89433434, 0.89518395, 0.89603076, 0.89686706, 0.89768939,\n",
       "       0.89850803, 0.89932265, 0.90013248, 0.90093596, 0.90173482,\n",
       "       0.90251607, 0.90329546, 0.90406669, 0.90482606, 0.90557771,\n",
       "       0.90632501, 0.90706619, 0.90780234, 0.90853143, 0.90925438,\n",
       "       0.90996846, 0.91067525, 0.91137687, 0.9120734 , 0.91276691,\n",
       "       0.9134538 , 0.91412926, 0.91480048, 0.9154622 , 0.91612113,\n",
       "       0.91677252, 0.9174119 , 0.91804297, 0.91866944, 0.91929542,\n",
       "       0.91991348, 0.92052815, 0.9211373 , 0.92173916, 0.92233446,\n",
       "       0.92292101, 0.92350484, 0.92408706, 0.92466241, 0.92523367,\n",
       "       0.92579612, 0.926357  , 0.92691164, 0.92746163, 0.92800811,\n",
       "       0.92854974, 0.92908623, 0.92962044, 0.93015238, 0.93068315,\n",
       "       0.93120494, 0.93172158, 0.93223752, 0.93274696, 0.93325128,\n",
       "       0.93375434, 0.93425382, 0.93475251, 0.93524534, 0.93572834,\n",
       "       0.93620936, 0.93668669, 0.93716108, 0.93763137, 0.93809362,\n",
       "       0.93855416, 0.93901132, 0.93946516, 0.93991563, 0.94035889,\n",
       "       0.94080031, 0.94123623, 0.94166634, 0.94209054, 0.94251334,\n",
       "       0.9429314 , 0.94334561, 0.94375684, 0.94416693, 0.94457215,\n",
       "       0.94497536, 0.94537442, 0.94577212, 0.94616716, 0.94656128,\n",
       "       0.94694734, 0.94733105, 0.94771196, 0.94809051, 0.94846724,\n",
       "       0.94883789, 0.94920803, 0.94957156, 0.94992961, 0.95028537,\n",
       "       0.9506398 , 0.95099343, 0.9513436 , 0.95168786, 0.95202923,\n",
       "       0.9523691 , 0.95270547, 0.95303995, 0.95337297, 0.95370415,\n",
       "       0.95403451, 0.95436355, 0.95468948, 0.95500992, 0.95532964,\n",
       "       0.95564747, 0.95596177, 0.9562738 , 0.9565845 , 0.95689448,\n",
       "       0.95720249, 0.95750637, 0.95780805, 0.95810729, 0.95840523,\n",
       "       0.95870234, 0.9589963 , 0.95928521, 0.9595721 , 0.95985691,\n",
       "       0.9601397 , 0.9604215 , 0.96070051, 0.96097721, 0.96125114,\n",
       "       0.9615244 , 0.96179631, 0.96206536, 0.9623333 , 0.96259692,\n",
       "       0.96285944, 0.9631192 , 0.96337626, 0.96363152, 0.9638845 ,\n",
       "       0.96413674, 0.96438723, 0.96463661, 0.96488486, 0.96513187,\n",
       "       0.96537698, 0.96562037, 0.96586205, 0.96610289, 0.96634084,\n",
       "       0.96657869, 0.96681272, 0.96704657, 0.96727896, 0.96750876,\n",
       "       0.96773538, 0.96796067, 0.96818505, 0.968409  , 0.96863013,\n",
       "       0.96885103, 0.96907065, 0.96928885, 0.96950343, 0.96971703,\n",
       "       0.96992842, 0.97013804, 0.9703469 , 0.97055541, 0.97076129,\n",
       "       0.97096617, 0.9711703 , 0.97137304, 0.97157367, 0.97177272,\n",
       "       0.97196898, 0.97216465, 0.97235955, 0.97255284, 0.97274564,\n",
       "       0.97293686, 0.97312619, 0.97331534, 0.97350238, 0.97368816,\n",
       "       0.97387195, 0.9740554 , 0.9742372 , 0.97441869, 0.9745998 ,\n",
       "       0.97477959, 0.97495709, 0.97513385, 0.9753098 , 0.97548507,\n",
       "       0.97565906, 0.97583276, 0.97600475, 0.97617632, 0.97634726,\n",
       "       0.97651789, 0.97668656, 0.97685386, 0.9770202 , 0.97718552,\n",
       "       0.97735024, 0.97751419, 0.97767708, 0.97783857, 0.97799968,\n",
       "       0.97816011, 0.97831997, 0.97847803, 0.97863471, 0.97879125,\n",
       "       0.97894717, 0.97910129, 0.97925534, 0.9794075 , 0.97955873,\n",
       "       0.97970896, 0.97985833, 0.98000708, 0.9801544 , 0.98030149,\n",
       "       0.98044778, 0.98059235, 0.98073638, 0.98088019, 0.98102317,\n",
       "       0.98116567, 0.98130745, 0.98144769, 0.98158734, 0.98172653,\n",
       "       0.98186487, 0.9820027 , 0.98213961, 0.98227604, 0.98241149,\n",
       "       0.98254653, 0.98268118, 0.98281498, 0.98294806, 0.98307997,\n",
       "       0.98321127, 0.98334209, 0.98347147, 0.98360011, 0.98372841,\n",
       "       0.98385617, 0.983983  , 0.98410924, 0.98423434, 0.98435884,\n",
       "       0.98448278, 0.98460617, 0.98472912, 0.984852  , 0.98497324,\n",
       "       0.98509422, 0.98521456, 0.98533478, 0.98545394, 0.9855726 ,\n",
       "       0.98569101, 0.98580854, 0.98592469, 0.9860402 , 0.98615511,\n",
       "       0.98626975, 0.98638343, 0.9864965 , 0.98660857, 0.98672004,\n",
       "       0.98683101, 0.98694155, 0.98705146, 0.9871611 , 0.98727017,\n",
       "       0.98737845, 0.98748622, 0.98759382, 0.98770049, 0.98780695,\n",
       "       0.98791282, 0.98801809, 0.98812308, 0.98822752, 0.98833112,\n",
       "       0.98843461, 0.98853712, 0.98863913, 0.98874026, 0.98884103,\n",
       "       0.98894147, 0.98904132, 0.98914006, 0.98923872, 0.98933657,\n",
       "       0.98943426, 0.9895316 , 0.98962858, 0.98972495, 0.98982042,\n",
       "       0.98991553, 0.99001034, 0.99010474, 0.99019869, 0.99029232,\n",
       "       0.99038547, 0.99047802, 0.99056952, 0.99066046, 0.99075123,\n",
       "       0.9908412 , 0.99093095, 0.99102027, 0.99110878, 0.99119686,\n",
       "       0.991284  , 0.99137064, 0.99145684, 0.99154301, 0.9916287 ,\n",
       "       0.99171383, 0.99179822, 0.99188227, 0.99196602, 0.99204914,\n",
       "       0.99213215, 0.99221454, 0.99229625, 0.9923773 , 0.99245801,\n",
       "       0.99253818, 0.99261801, 0.99269711, 0.99277575, 0.99285437,\n",
       "       0.99293242, 0.99301037, 0.99308714, 0.99316362, 0.99323997,\n",
       "       0.99331588, 0.99339135, 0.99346645, 0.99354112, 0.99361543,\n",
       "       0.99368914, 0.99376232, 0.9938352 , 0.99390791, 0.99398013,\n",
       "       0.99405219, 0.99412331, 0.99419377, 0.994264  , 0.99433386,\n",
       "       0.99440353, 0.99447278, 0.99454165, 0.99461022, 0.99467846,\n",
       "       0.99474631, 0.99481384, 0.99488084, 0.99494741, 0.99501349,\n",
       "       0.99507947, 0.99514485, 0.99520937, 0.99527369, 0.99533783,\n",
       "       0.99540182, 0.99546534, 0.99552812, 0.99559085, 0.99565334,\n",
       "       0.99571532, 0.99577699, 0.99583833, 0.99589931, 0.9959597 ,\n",
       "       0.99601994, 0.99608004, 0.9961398 , 0.99619902, 0.99625806,\n",
       "       0.99631668, 0.99637498, 0.99643246, 0.99648964, 0.99654658,\n",
       "       0.99660348, 0.99666008, 0.99671624, 0.99677226, 0.99682789,\n",
       "       0.99688332, 0.99693851, 0.99699341, 0.99704791, 0.99710219,\n",
       "       0.99715597, 0.99720952, 0.99726274, 0.99731563, 0.99736803,\n",
       "       0.99742014, 0.99747165, 0.99752302, 0.99757402, 0.99762466,\n",
       "       0.99767508, 0.99772515, 0.99777484, 0.99782431, 0.99787324,\n",
       "       0.99792198, 0.99797022, 0.99801832, 0.99806623, 0.99811294,\n",
       "       0.99815934, 0.99820553, 0.9982516 , 0.99829736, 0.99834261,\n",
       "       0.99838751, 0.99843215, 0.99847669, 0.99852092, 0.99856455,\n",
       "       0.99860796, 0.9986511 , 0.99869369, 0.99873568, 0.99877733,\n",
       "       0.9988188 , 0.99886   , 0.99890061, 0.99894074, 0.99898074,\n",
       "       0.99902045, 0.99905956, 0.99909851, 0.99913737, 0.99917557,\n",
       "       0.99921352, 0.99925108, 0.99928825, 0.99932528, 0.99936201,\n",
       "       0.99939802, 0.99943366, 0.99946908, 0.99950427, 0.99953896,\n",
       "       0.99957313, 0.99960703, 0.99964055, 0.99967369, 0.99970635,\n",
       "       0.9997389 , 0.99977105, 0.99980226, 0.9998326 , 0.99986238,\n",
       "       0.99989173, 0.99992013, 0.99994621, 0.99997163, 0.99998665,\n",
       "       0.99999752, 1.        , 1.        , 1.        , 1.        ,\n",
       "       1.        , 1.        , 1.        , 1.        , 1.        ,\n",
       "       1.        , 1.        , 1.        , 1.        , 1.        ,\n",
       "       1.        , 1.        , 1.        , 1.        , 1.        ,\n",
       "       1.        , 1.        , 1.        , 1.        , 1.        ,\n",
       "       1.        , 1.        , 1.        , 1.        , 1.        ,\n",
       "       1.        , 1.        , 1.        , 1.        , 1.        ,\n",
       "       1.        , 1.        , 1.        , 1.        , 1.        ,\n",
       "       1.        , 1.        , 1.        , 1.        , 1.        ,\n",
       "       1.        , 1.        , 1.        , 1.        , 1.        ,\n",
       "       1.        , 1.        , 1.        , 1.        , 1.        ,\n",
       "       1.        , 1.        , 1.        , 1.        , 1.        ,\n",
       "       1.        , 1.        , 1.        , 1.        , 1.        ,\n",
       "       1.        , 1.        , 1.        , 1.        , 1.        ,\n",
       "       1.        , 1.        , 1.        , 1.        , 1.        ,\n",
       "       1.        , 1.        , 1.        , 1.        , 1.        ,\n",
       "       1.        , 1.        , 1.        , 1.        , 1.        ,\n",
       "       1.        , 1.        , 1.        , 1.        ])"
      ]
     },
     "execution_count": 36,
     "metadata": {},
     "output_type": "execute_result"
    }
   ],
   "source": [
    "np.cumsum(pca.explained_variance_ratio_)"
   ]
  },
  {
   "cell_type": "code",
   "execution_count": 37,
   "metadata": {},
   "outputs": [
    {
     "data": {
      "text/plain": [
       "[<matplotlib.lines.Line2D at 0x2088a20e290>]"
      ]
     },
     "execution_count": 37,
     "metadata": {},
     "output_type": "execute_result"
    },
    {
     "data": {
      "image/png": "[encoded data removed]",
      "text/plain": [
       "<Figure size 640x480 with 1 Axes>"
      ]
     },
     "metadata": {},
     "output_type": "display_data"
    }
   ],
   "source": [
    "plt.plot(np.cumsum(pca.explained_variance_ratio_))"
   ]
  },
  {
   "cell_type": "code",
   "execution_count": null,
   "metadata": {},
   "outputs": [],
   "source": []
  }
 ],
 "metadata": {
  "kernelspec": {
   "display_name": "MLvenv",
   "language": "python",
   "name": "python3"
  },
  "language_info": {
   "codemirror_mode": {
    "name": "ipython",
    "version": 3
   },
   "file_extension": ".py",
   "mimetype": "text/x-python",
   "name": "python",
   "nbconvert_exporter": "python",
   "pygments_lexer": "ipython3",
   "version": "3.11.9"
  }
 },
 "nbformat": 4,
 "nbformat_minor": 2
}
